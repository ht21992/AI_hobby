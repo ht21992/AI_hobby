{
 "cells": [
  {
   "cell_type": "markdown",
   "id": "45e162bc-4352-4ad7-830c-0866fd4e63e1",
   "metadata": {},
   "source": [
    "### 1- imports"
   ]
  },
  {
   "cell_type": "code",
   "execution_count": 105,
   "id": "d3c8e93b-7113-4334-97fe-77a3adcf9b37",
   "metadata": {},
   "outputs": [],
   "source": [
    "import pandas as pd\n",
    "import matplotlib.pyplot as plt\n",
    "# models\n",
    "from sklearn.tree import DecisionTreeClassifier\n",
    "from sklearn.ensemble import RandomForestClassifier\n",
    "from sklearn.naive_bayes import GaussianNB\n",
    "from sklearn.svm import SVC\n",
    "# utils\n",
    "from sklearn.model_selection import train_test_split\n",
    "from sklearn import metrics\n",
    "from sklearn import preprocessing "
   ]
  },
  {
   "cell_type": "markdown",
   "id": "a3645641-144e-4803-9743-2302a73a6965",
   "metadata": {},
   "source": [
    "### 2- load data"
   ]
  },
  {
   "cell_type": "code",
   "execution_count": 106,
   "id": "9c0e7dc8-6307-4020-a4da-a5640f2016a6",
   "metadata": {},
   "outputs": [],
   "source": [
    "data=pd.read_csv('Travel_details_dataset.csv')"
   ]
  },
  {
   "cell_type": "markdown",
   "id": "19b1aeb1-1c1b-46e8-b4a8-09469037aae1",
   "metadata": {},
   "source": [
    "### 3- data exploratory "
   ]
  },
  {
   "cell_type": "code",
   "execution_count": 107,
   "id": "1e6d22f0-51ad-48f5-b9db-080df71f47b9",
   "metadata": {},
   "outputs": [
    {
     "data": {
      "text/html": [
       "<div>\n",
       "<style scoped>\n",
       "    .dataframe tbody tr th:only-of-type {\n",
       "        vertical-align: middle;\n",
       "    }\n",
       "\n",
       "    .dataframe tbody tr th {\n",
       "        vertical-align: top;\n",
       "    }\n",
       "\n",
       "    .dataframe thead th {\n",
       "        text-align: right;\n",
       "    }\n",
       "</style>\n",
       "<table border=\"1\" class=\"dataframe\">\n",
       "  <thead>\n",
       "    <tr style=\"text-align: right;\">\n",
       "      <th></th>\n",
       "      <th>Trip ID</th>\n",
       "      <th>Destination</th>\n",
       "      <th>Start date</th>\n",
       "      <th>End date</th>\n",
       "      <th>Duration (days)</th>\n",
       "      <th>Traveler name</th>\n",
       "      <th>Traveler age</th>\n",
       "      <th>Traveler gender</th>\n",
       "      <th>Traveler nationality</th>\n",
       "      <th>Accommodation type</th>\n",
       "      <th>Accommodation cost</th>\n",
       "      <th>Transportation type</th>\n",
       "      <th>Transportation cost</th>\n",
       "    </tr>\n",
       "  </thead>\n",
       "  <tbody>\n",
       "    <tr>\n",
       "      <th>134</th>\n",
       "      <td>135</td>\n",
       "      <td>Rio de Janeiro, Brazil</td>\n",
       "      <td>8/1/2023</td>\n",
       "      <td>8/10/2023</td>\n",
       "      <td>9.0</td>\n",
       "      <td>Jose Perez</td>\n",
       "      <td>37.0</td>\n",
       "      <td>Male</td>\n",
       "      <td>Brazilian</td>\n",
       "      <td>Hostel</td>\n",
       "      <td>2500</td>\n",
       "      <td>Car</td>\n",
       "      <td>2000</td>\n",
       "    </tr>\n",
       "    <tr>\n",
       "      <th>135</th>\n",
       "      <td>136</td>\n",
       "      <td>Vancouver, Canada</td>\n",
       "      <td>8/15/2023</td>\n",
       "      <td>8/21/2023</td>\n",
       "      <td>6.0</td>\n",
       "      <td>Emma Wilson</td>\n",
       "      <td>29.0</td>\n",
       "      <td>Female</td>\n",
       "      <td>Canadian</td>\n",
       "      <td>Hotel</td>\n",
       "      <td>5000</td>\n",
       "      <td>Airplane</td>\n",
       "      <td>3000</td>\n",
       "    </tr>\n",
       "    <tr>\n",
       "      <th>136</th>\n",
       "      <td>137</td>\n",
       "      <td>Bangkok, Thailand</td>\n",
       "      <td>9/1/2023</td>\n",
       "      <td>9/8/2023</td>\n",
       "      <td>7.0</td>\n",
       "      <td>Ryan Chen</td>\n",
       "      <td>34.0</td>\n",
       "      <td>Male</td>\n",
       "      <td>Chinese</td>\n",
       "      <td>Hostel</td>\n",
       "      <td>2000</td>\n",
       "      <td>Train</td>\n",
       "      <td>1000</td>\n",
       "    </tr>\n",
       "    <tr>\n",
       "      <th>137</th>\n",
       "      <td>138</td>\n",
       "      <td>Barcelona, Spain</td>\n",
       "      <td>9/15/2023</td>\n",
       "      <td>9/22/2023</td>\n",
       "      <td>7.0</td>\n",
       "      <td>Sofia Rodriguez</td>\n",
       "      <td>25.0</td>\n",
       "      <td>Female</td>\n",
       "      <td>Spanish</td>\n",
       "      <td>Airbnb</td>\n",
       "      <td>6000</td>\n",
       "      <td>Airplane</td>\n",
       "      <td>2500</td>\n",
       "    </tr>\n",
       "    <tr>\n",
       "      <th>138</th>\n",
       "      <td>139</td>\n",
       "      <td>Auckland, New Zealand</td>\n",
       "      <td>10/1/2023</td>\n",
       "      <td>10/8/2023</td>\n",
       "      <td>7.0</td>\n",
       "      <td>William Brown</td>\n",
       "      <td>39.0</td>\n",
       "      <td>Male</td>\n",
       "      <td>New Zealander</td>\n",
       "      <td>Hotel</td>\n",
       "      <td>7000</td>\n",
       "      <td>Train</td>\n",
       "      <td>2500</td>\n",
       "    </tr>\n",
       "  </tbody>\n",
       "</table>\n",
       "</div>"
      ],
      "text/plain": [
       "     Trip ID             Destination Start date   End date  Duration (days)  \\\n",
       "134      135  Rio de Janeiro, Brazil   8/1/2023  8/10/2023              9.0   \n",
       "135      136       Vancouver, Canada  8/15/2023  8/21/2023              6.0   \n",
       "136      137       Bangkok, Thailand   9/1/2023   9/8/2023              7.0   \n",
       "137      138        Barcelona, Spain  9/15/2023  9/22/2023              7.0   \n",
       "138      139   Auckland, New Zealand  10/1/2023  10/8/2023              7.0   \n",
       "\n",
       "       Traveler name  Traveler age Traveler gender Traveler nationality  \\\n",
       "134       Jose Perez          37.0            Male            Brazilian   \n",
       "135      Emma Wilson          29.0          Female             Canadian   \n",
       "136        Ryan Chen          34.0            Male              Chinese   \n",
       "137  Sofia Rodriguez          25.0          Female              Spanish   \n",
       "138    William Brown          39.0            Male        New Zealander   \n",
       "\n",
       "    Accommodation type Accommodation cost Transportation type  \\\n",
       "134             Hostel               2500                 Car   \n",
       "135              Hotel               5000            Airplane   \n",
       "136             Hostel               2000               Train   \n",
       "137             Airbnb               6000            Airplane   \n",
       "138              Hotel               7000               Train   \n",
       "\n",
       "    Transportation cost  \n",
       "134                2000  \n",
       "135                3000  \n",
       "136                1000  \n",
       "137                2500  \n",
       "138                2500  "
      ]
     },
     "execution_count": 107,
     "metadata": {},
     "output_type": "execute_result"
    }
   ],
   "source": [
    "data.tail()"
   ]
  },
  {
   "cell_type": "code",
   "execution_count": 108,
   "id": "1cf640b4-001a-4a6d-af24-0b19f9afa20d",
   "metadata": {},
   "outputs": [
    {
     "data": {
      "text/html": [
       "<div>\n",
       "<style scoped>\n",
       "    .dataframe tbody tr th:only-of-type {\n",
       "        vertical-align: middle;\n",
       "    }\n",
       "\n",
       "    .dataframe tbody tr th {\n",
       "        vertical-align: top;\n",
       "    }\n",
       "\n",
       "    .dataframe thead th {\n",
       "        text-align: right;\n",
       "    }\n",
       "</style>\n",
       "<table border=\"1\" class=\"dataframe\">\n",
       "  <thead>\n",
       "    <tr style=\"text-align: right;\">\n",
       "      <th></th>\n",
       "      <th>Trip ID</th>\n",
       "      <th>Duration (days)</th>\n",
       "      <th>Traveler age</th>\n",
       "    </tr>\n",
       "  </thead>\n",
       "  <tbody>\n",
       "    <tr>\n",
       "      <th>count</th>\n",
       "      <td>139.000000</td>\n",
       "      <td>137.000000</td>\n",
       "      <td>137.000000</td>\n",
       "    </tr>\n",
       "    <tr>\n",
       "      <th>mean</th>\n",
       "      <td>70.000000</td>\n",
       "      <td>7.605839</td>\n",
       "      <td>33.175182</td>\n",
       "    </tr>\n",
       "    <tr>\n",
       "      <th>std</th>\n",
       "      <td>40.269923</td>\n",
       "      <td>1.601276</td>\n",
       "      <td>7.145441</td>\n",
       "    </tr>\n",
       "    <tr>\n",
       "      <th>min</th>\n",
       "      <td>1.000000</td>\n",
       "      <td>5.000000</td>\n",
       "      <td>20.000000</td>\n",
       "    </tr>\n",
       "    <tr>\n",
       "      <th>25%</th>\n",
       "      <td>35.500000</td>\n",
       "      <td>7.000000</td>\n",
       "      <td>28.000000</td>\n",
       "    </tr>\n",
       "    <tr>\n",
       "      <th>50%</th>\n",
       "      <td>70.000000</td>\n",
       "      <td>7.000000</td>\n",
       "      <td>31.000000</td>\n",
       "    </tr>\n",
       "    <tr>\n",
       "      <th>75%</th>\n",
       "      <td>104.500000</td>\n",
       "      <td>8.000000</td>\n",
       "      <td>38.000000</td>\n",
       "    </tr>\n",
       "    <tr>\n",
       "      <th>max</th>\n",
       "      <td>139.000000</td>\n",
       "      <td>14.000000</td>\n",
       "      <td>60.000000</td>\n",
       "    </tr>\n",
       "  </tbody>\n",
       "</table>\n",
       "</div>"
      ],
      "text/plain": [
       "          Trip ID  Duration (days)  Traveler age\n",
       "count  139.000000       137.000000    137.000000\n",
       "mean    70.000000         7.605839     33.175182\n",
       "std     40.269923         1.601276      7.145441\n",
       "min      1.000000         5.000000     20.000000\n",
       "25%     35.500000         7.000000     28.000000\n",
       "50%     70.000000         7.000000     31.000000\n",
       "75%    104.500000         8.000000     38.000000\n",
       "max    139.000000        14.000000     60.000000"
      ]
     },
     "execution_count": 108,
     "metadata": {},
     "output_type": "execute_result"
    }
   ],
   "source": [
    "data.describe()"
   ]
  },
  {
   "cell_type": "code",
   "execution_count": 109,
   "id": "0e14569d-882e-4393-8764-8ffff5d63dc7",
   "metadata": {},
   "outputs": [
    {
     "name": "stdout",
     "output_type": "stream",
     "text": [
      "<class 'pandas.core.frame.DataFrame'>\n",
      "RangeIndex: 139 entries, 0 to 138\n",
      "Data columns (total 13 columns):\n",
      " #   Column                Non-Null Count  Dtype  \n",
      "---  ------                --------------  -----  \n",
      " 0   Trip ID               139 non-null    int64  \n",
      " 1   Destination           137 non-null    object \n",
      " 2   Start date            137 non-null    object \n",
      " 3   End date              137 non-null    object \n",
      " 4   Duration (days)       137 non-null    float64\n",
      " 5   Traveler name         137 non-null    object \n",
      " 6   Traveler age          137 non-null    float64\n",
      " 7   Traveler gender       137 non-null    object \n",
      " 8   Traveler nationality  137 non-null    object \n",
      " 9   Accommodation type    137 non-null    object \n",
      " 10  Accommodation cost    137 non-null    object \n",
      " 11  Transportation type   136 non-null    object \n",
      " 12  Transportation cost   136 non-null    object \n",
      "dtypes: float64(2), int64(1), object(10)\n",
      "memory usage: 14.2+ KB\n"
     ]
    }
   ],
   "source": [
    "data.info()"
   ]
  },
  {
   "cell_type": "markdown",
   "id": "cf6130d4-d066-4c32-80a5-74606575e019",
   "metadata": {},
   "source": [
    "### 3-preprocessing   "
   ]
  },
  {
   "cell_type": "code",
   "execution_count": 110,
   "id": "52486f93-dcf2-4aa5-b426-78d8e13f3c38",
   "metadata": {},
   "outputs": [],
   "source": [
    "data = data.dropna() # drop nulls\n",
    "data = data.drop(['Trip ID','Traveler name','Start date','End date','Duration (days)'], axis=1) # drop unnecessary cols"
   ]
  },
  {
   "cell_type": "markdown",
   "id": "dafa8a91-d644-4f21-bd92-802dc9dcda7e",
   "metadata": {},
   "source": [
    "#### Label Encoding"
   ]
  },
  {
   "cell_type": "code",
   "execution_count": 111,
   "id": "0ca7cd05-0cd1-4173-83e3-a419cfe3cca9",
   "metadata": {},
   "outputs": [],
   "source": [
    "label_encoder = preprocessing.LabelEncoder() \n",
    "data['Destination']= label_encoder.fit_transform(data['Destination']) \n",
    "data['Traveler gender']= label_encoder.fit_transform(data['Traveler gender']) \n",
    "data['Traveler nationality']= label_encoder.fit_transform(data['Traveler nationality']) \n",
    "data['Accommodation type']= label_encoder.fit_transform(data['Accommodation type']) \n",
    "data['Accommodation cost']= label_encoder.fit_transform(data['Accommodation cost']) \n",
    "data['Transportation type']= label_encoder.fit_transform(data['Transportation type']) \n",
    "data['Transportation cost']= label_encoder.fit_transform(data['Transportation cost']) "
   ]
  },
  {
   "cell_type": "markdown",
   "id": "89ce124d-27f3-42e1-bc32-70faf860c70f",
   "metadata": {},
   "source": [
    "#### Diagrams"
   ]
  },
  {
   "cell_type": "code",
   "execution_count": 112,
   "id": "85f154b1-f40b-47cd-89c5-15407f80a5da",
   "metadata": {},
   "outputs": [
    {
     "data": {
      "image/png": "[encoded data removed]",
      "text/plain": [
       "<Figure size 1000x1000 with 4 Axes>"
      ]
     },
     "metadata": {},
     "output_type": "display_data"
    }
   ],
   "source": [
    "fig,ax=plt.subplots(2,2,figsize=(10,10))\n",
    "ax[0,0].hist(data[\"Traveler gender\"],10,fc=\"red\",ec=\"black\")\n",
    "ax[0,0].set_xlabel(\"Traveler gender\")\n",
    "ax[0,0].set_ylabel(\"Frequency\")\n",
    "ax[0,1].scatter(data[\"Accommodation cost\"],data[\"Transportation type\"])\n",
    "ax[0,1].set_xlabel(\"Accommodation cost\")\n",
    "ax[0,1].set_ylabel(\"Transportation type\")\n",
    "ax[1,0].scatter(data[\"Accommodation cost\"],data[\"Traveler nationality\"])\n",
    "ax[1,0].set_xlabel(\"Accommodation cost\")\n",
    "ax[1,0].set_ylabel(\"Traveler nationality\")\n",
    "ax[1,1].hist(data[\"Destination\"],10,fc=\"blue\",ec=\"black\")\n",
    "ax[1,1].set_xlabel(\"Destination\")\n",
    "ax[1,1].set_ylabel(\"Frequency\")\n",
    "plt.show()"
   ]
  },
  {
   "cell_type": "markdown",
   "id": "236bd26f-5f71-417f-8182-a70c5184b214",
   "metadata": {},
   "source": [
    "### 4- Features and labels"
   ]
  },
  {
   "cell_type": "code",
   "execution_count": 114,
   "id": "8b59ee38-1f25-4d96-a56a-729e01224c67",
   "metadata": {},
   "outputs": [],
   "source": [
    "feature_cols=['Destination', 'Traveler age','Traveler nationality','Accommodation type','Accommodation cost', 'Transportation type','Transportation cost']\n",
    "X=data[feature_cols]\n",
    "Y=data['Traveler gender']"
   ]
  },
  {
   "cell_type": "markdown",
   "id": "25ad4dba-5357-43f1-96b4-81386604f70a",
   "metadata": {},
   "source": [
    "### 5- Splitting data"
   ]
  },
  {
   "cell_type": "code",
   "execution_count": 115,
   "id": "5527c34d-a3c3-4b50-af5d-4ef85dde4392",
   "metadata": {},
   "outputs": [],
   "source": [
    "X_train,X_test,Y_train,Y_test=train_test_split(X,Y,test_size=0.3,random_state=1) "
   ]
  },
  {
   "cell_type": "markdown",
   "id": "a122aef6-ff02-4534-ba02-5cc4c6c1f311",
   "metadata": {},
   "source": [
    "### 6- Model selection"
   ]
  },
  {
   "cell_type": "code",
   "execution_count": 116,
   "id": "d5fd43cf-4761-4765-8970-762e5529e78d",
   "metadata": {},
   "outputs": [],
   "source": [
    "clf=DecisionTreeClassifier(criterion=\"entropy\",max_depth=2)\n",
    "# clf_gini=DecisionTreeClassifier(criterion=\"gini\",max_depth=5)\n",
    "# RFC=RandomForestClassifier(n_estimators=100, random_state=1)\n",
    "# GNB=GaussianNB()\n",
    "# svclassifier=SVC(gamma=\"auto\",kernel=\"rbf\")"
   ]
  },
  {
   "cell_type": "markdown",
   "id": "bedc2b6a-c4f2-44d0-85cd-c4805d5617f3",
   "metadata": {},
   "source": [
    "### 7- Model training "
   ]
  },
  {
   "cell_type": "code",
   "execution_count": 117,
   "id": "41b24ead-2050-4c50-991b-7b413435992c",
   "metadata": {},
   "outputs": [],
   "source": [
    "clf=clf.fit(X_train,Y_train)\n",
    "Y_pred=clf.predict(X_test)\n",
    "# clf_gini=clf_gini.fit(X_train,Y_train)\n",
    "# Y_pred=clf_gini.predict(X_test)\n",
    "# RFC.fit(X_train,Y_train)\n",
    "# Y_pred=RFC.predict(X_test)\n",
    "# GNB.fit(X_train,Y_train)\n",
    "# Y_pred=GNB.predict(X_test)\n",
    "# svclassifier.fit(X_train,Y_train)\n",
    "# Y_pred=svclassifier.predict(X_test)"
   ]
  },
  {
   "cell_type": "markdown",
   "id": "8214a07c-9de9-4310-be64-d388fa7a2a40",
   "metadata": {},
   "source": [
    "### 8- Model evaluation"
   ]
  },
  {
   "cell_type": "code",
   "execution_count": 118,
   "id": "c2bc033a-811a-4917-a819-aca3c9d14dc0",
   "metadata": {},
   "outputs": [
    {
     "data": {
      "text/plain": [
       "('DC Entropy Accuracy:', 0.73)"
      ]
     },
     "execution_count": 118,
     "metadata": {},
     "output_type": "execute_result"
    }
   ],
   "source": [
    "\"DC Entropy Accuracy:\",round(metrics.accuracy_score(Y_test,Y_pred),2) # 073\n",
    "# \"DC Gini Accuracy:\",round(metrics.accuracy_score(Y_test,Y_pred),2)  # 0.66\n",
    "# \"Random Forest Accuracy:\",round(metrics.accuracy_score(Y_test,Y_pred),2)  # 0.63\n",
    "# \"GaussianNB Accuracy:\",round(metrics.accuracy_score(Y_test,Y_pred),2)  # 0.61\n",
    "# \"SVC rbf kernel Accuracy:\",round(metrics.accuracy_score(Y_test,Y_pred),2)  # 0.37\n",
    "# \"SVC linear kernel Accuracy:\",round(metrics.accuracy_score(Y_test,Y_pred),2)  # 0.66\n",
    "# \"SVC poly kernel Accuracy:\",round(metrics.accuracy_score(Y_test,Y_pred),2)  # 0.61\n",
    "# \"SVC sigmoid kernel Accuracy:\",round(metrics.accuracy_score(Y_test,Y_pred),2)  # 0.39"
   ]
  },
  {
   "cell_type": "markdown",
   "id": "bb2e73ea-f20b-49fe-a4ce-7286857b0168",
   "metadata": {},
   "source": [
    "### 9 - Model adjustment"
   ]
  },
  {
   "cell_type": "code",
   "execution_count": null,
   "id": "58a40159-7b93-47ee-8a37-f806aea7a380",
   "metadata": {},
   "outputs": [],
   "source": []
  },
  {
   "cell_type": "code",
   "execution_count": null,
   "id": "945b4689-eee5-49b7-9189-2d754e88f357",
   "metadata": {},
   "outputs": [],
   "source": []
  },
  {
   "cell_type": "code",
   "execution_count": null,
   "id": "08bda169-bc7f-468d-b93d-c53f822a9777",
   "metadata": {},
   "outputs": [],
   "source": []
  },
  {
   "cell_type": "code",
   "execution_count": null,
   "id": "f465fa83-caf2-437e-9f03-c1d6bbb90226",
   "metadata": {},
   "outputs": [],
   "source": []
  }
 ],
 "metadata": {
  "kernelspec": {
   "display_name": "Python 3 (ipykernel)",
   "language": "python",
   "name": "python3"
  },
  "language_info": {
   "codemirror_mode": {
    "name": "ipython",
    "version": 3
   },
   "file_extension": ".py",
   "mimetype": "text/x-python",
   "name": "python",
   "nbconvert_exporter": "python",
   "pygments_lexer": "ipython3",
   "version": "3.9.5"
  }
 },
 "nbformat": 4,
 "nbformat_minor": 5
}
